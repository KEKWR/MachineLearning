{
  "nbformat": 4,
  "nbformat_minor": 0,
  "metadata": {
    "colab": {
      "provenance": [],
      "authorship_tag": "ABX9TyNyplhCCF/UmyxT2lhJ4/xj",
      "include_colab_link": true
    },
    "kernelspec": {
      "name": "python3",
      "display_name": "Python 3"
    },
    "language_info": {
      "name": "python"
    }
  },
  "cells": [
    {
      "cell_type": "markdown",
      "metadata": {
        "id": "view-in-github",
        "colab_type": "text"
      },
      "source": [
        "<a href=\"https://colab.research.google.com/github/KEKWR/MachineLearning/blob/main/Practic1.ipynb\" target=\"_parent\"><img src=\"https://colab.research.google.com/assets/colab-badge.svg\" alt=\"Open In Colab\"/></a>"
      ]
    },
    {
      "cell_type": "code",
      "source": [
        "import pandas as pd\n",
        "data = pd.read_csv('train.csv')\n"
      ],
      "metadata": {
        "id": "O3FqARwOFE50"
      },
      "execution_count": 1,
      "outputs": []
    },
    {
      "cell_type": "markdown",
      "source": [
        "#Задние 1\n",
        "выведите размер таблицы\n"
      ],
      "metadata": {
        "id": "xJ6w0teEEErP"
      }
    },
    {
      "cell_type": "code",
      "source": [
        "print(data.shape)"
      ],
      "metadata": {
        "colab": {
          "base_uri": "https://localhost:8080/"
        },
        "id": "f3pNmh5pEy9b",
        "outputId": "08dd5d12-4b24-485f-9a1b-48ae5105968f"
      },
      "execution_count": 2,
      "outputs": [
        {
          "output_type": "stream",
          "name": "stdout",
          "text": [
            "(891, 12)\n"
          ]
        }
      ]
    },
    {
      "cell_type": "markdown",
      "source": [
        "#Задание 2\n",
        "выведите первые 5 строк"
      ],
      "metadata": {
        "id": "VDcFeoPpE56e"
      }
    },
    {
      "cell_type": "code",
      "source": [
        "print(data.head(5))"
      ],
      "metadata": {
        "id": "2iaAuFzfE_t-",
        "colab": {
          "base_uri": "https://localhost:8080/"
        },
        "outputId": "f08a5525-497f-4df2-c243-592601c5968b"
      },
      "execution_count": 3,
      "outputs": [
        {
          "output_type": "stream",
          "name": "stdout",
          "text": [
            "   PassengerId  Survived  Pclass  \\\n",
            "0            1         0       3   \n",
            "1            2         1       1   \n",
            "2            3         1       3   \n",
            "3            4         1       1   \n",
            "4            5         0       3   \n",
            "\n",
            "                                                Name     Sex   Age  SibSp  \\\n",
            "0                            Braund, Mr. Owen Harris    male  22.0      1   \n",
            "1  Cumings, Mrs. John Bradley (Florence Briggs Th...  female  38.0      1   \n",
            "2                             Heikkinen, Miss. Laina  female  26.0      0   \n",
            "3       Futrelle, Mrs. Jacques Heath (Lily May Peel)  female  35.0      1   \n",
            "4                           Allen, Mr. William Henry    male  35.0      0   \n",
            "\n",
            "   Parch            Ticket     Fare Cabin Embarked  \n",
            "0      0         A/5 21171   7.2500   NaN        S  \n",
            "1      0          PC 17599  71.2833   C85        C  \n",
            "2      0  STON/O2. 3101282   7.9250   NaN        S  \n",
            "3      0            113803  53.1000  C123        S  \n",
            "4      0            373450   8.0500   NaN        S  \n"
          ]
        }
      ]
    },
    {
      "cell_type": "markdown",
      "source": [
        "#Задание 3\n",
        "выведите последние 5 строк"
      ],
      "metadata": {
        "id": "MZfYx8bbFLlk"
      }
    },
    {
      "cell_type": "code",
      "source": [
        "print(data.tail(5))"
      ],
      "metadata": {
        "id": "Nfi2kytvFLwG",
        "colab": {
          "base_uri": "https://localhost:8080/"
        },
        "outputId": "cbf1b769-6f1a-4180-c195-8b97c224721a"
      },
      "execution_count": 4,
      "outputs": [
        {
          "output_type": "stream",
          "name": "stdout",
          "text": [
            "     PassengerId  Survived  Pclass                                      Name  \\\n",
            "886          887         0       2                     Montvila, Rev. Juozas   \n",
            "887          888         1       1              Graham, Miss. Margaret Edith   \n",
            "888          889         0       3  Johnston, Miss. Catherine Helen \"Carrie\"   \n",
            "889          890         1       1                     Behr, Mr. Karl Howell   \n",
            "890          891         0       3                       Dooley, Mr. Patrick   \n",
            "\n",
            "        Sex   Age  SibSp  Parch      Ticket   Fare Cabin Embarked  \n",
            "886    male  27.0      0      0      211536  13.00   NaN        S  \n",
            "887  female  19.0      0      0      112053  30.00   B42        S  \n",
            "888  female   NaN      1      2  W./C. 6607  23.45   NaN        S  \n",
            "889    male  26.0      0      0      111369  30.00  C148        C  \n",
            "890    male  32.0      0      0      370376   7.75   NaN        Q  \n"
          ]
        }
      ]
    },
    {
      "cell_type": "markdown",
      "source": [
        "#Задание 4\n",
        "выведите случайные 10 строк"
      ],
      "metadata": {
        "id": "AkDtPrH-FMMu"
      }
    },
    {
      "cell_type": "code",
      "source": [
        "import random \n",
        "print(data.iloc[[random.randint(0, len(data.index)) for i in range(10)]])"
      ],
      "metadata": {
        "id": "SjJ1ykY2FMWG",
        "colab": {
          "base_uri": "https://localhost:8080/"
        },
        "outputId": "e18bd158-80a0-46c5-c0b1-9538f64e1610"
      },
      "execution_count": 5,
      "outputs": [
        {
          "output_type": "stream",
          "name": "stdout",
          "text": [
            "     PassengerId  Survived  Pclass  \\\n",
            "567          568         0       3   \n",
            "42            43         0       3   \n",
            "883          884         0       2   \n",
            "330          331         1       3   \n",
            "508          509         0       3   \n",
            "231          232         0       3   \n",
            "54            55         0       1   \n",
            "512          513         1       1   \n",
            "171          172         0       3   \n",
            "866          867         1       2   \n",
            "\n",
            "                                            Name     Sex   Age  SibSp  Parch  \\\n",
            "567  Palsson, Mrs. Nils (Alma Cornelia Berglund)  female  29.0      0      4   \n",
            "42                           Kraeff, Mr. Theodor    male   NaN      0      0   \n",
            "883                Banfield, Mr. Frederick James    male  28.0      0      0   \n",
            "330                           McCoy, Miss. Agnes  female   NaN      2      0   \n",
            "508                     Olsen, Mr. Henry Margido    male  28.0      0      0   \n",
            "231                     Larsson, Mr. Bengt Edvin    male  29.0      0      0   \n",
            "54                Ostby, Mr. Engelhart Cornelius    male  65.0      0      1   \n",
            "512                    McGough, Mr. James Robert    male  36.0      0      0   \n",
            "171                         Rice, Master. Arthur    male   4.0      4      1   \n",
            "866                 Duran y More, Miss. Asuncion  female  27.0      1      0   \n",
            "\n",
            "               Ticket     Fare Cabin Embarked  \n",
            "567            349909  21.0750   NaN        S  \n",
            "42             349253   7.8958   NaN        C  \n",
            "883  C.A./SOTON 34068  10.5000   NaN        S  \n",
            "330            367226  23.2500   NaN        Q  \n",
            "508            C 4001  22.5250   NaN        S  \n",
            "231            347067   7.7750   NaN        S  \n",
            "54             113509  61.9792   B30        C  \n",
            "512          PC 17473  26.2875   E25        S  \n",
            "171            382652  29.1250   NaN        Q  \n",
            "866     SC/PARIS 2149  13.8583   NaN        C  \n"
          ]
        }
      ]
    },
    {
      "cell_type": "markdown",
      "source": [
        "#Задание 5\n",
        "создайте 2 копии таблицы (Дале “копия1” и “копия2”)"
      ],
      "metadata": {
        "id": "DO4uFAV3FMrG"
      }
    },
    {
      "cell_type": "code",
      "source": [
        "data1 = data.copy()\n",
        "data2 = data.copy()"
      ],
      "metadata": {
        "id": "e6KvvCybFMzO"
      },
      "execution_count": 6,
      "outputs": []
    },
    {
      "cell_type": "markdown",
      "source": [
        "#Задание 6\n",
        " выведите информацию о таблице “копия1”, выберите столбец с\n",
        "пропущенными значениями (они же “null”, они же “NaN”) и\n",
        "удалите их, выведите информацию об этой таблице снова.\n"
      ],
      "metadata": {
        "id": "Oo54p-mOFM7W"
      }
    },
    {
      "cell_type": "code",
      "source": [
        "print(data1.head)\n",
        "\n",
        "def find_Null_Column(df):\n",
        "    for column in df: \n",
        "        if df[column].isnull().sum() > 0 : return column \n",
        "\n",
        "data1[f'{find_Null_Column(data1)}'].fillna('', inplace= True )\n",
        "\n",
        "print(data1.head)"
      ],
      "metadata": {
        "id": "TgR8FP2vFNBk",
        "colab": {
          "base_uri": "https://localhost:8080/"
        },
        "outputId": "fb2ddd37-1db2-4234-bcbe-bbf410a65e42"
      },
      "execution_count": 7,
      "outputs": [
        {
          "output_type": "stream",
          "name": "stdout",
          "text": [
            "<bound method NDFrame.head of      PassengerId  Survived  Pclass  \\\n",
            "0              1         0       3   \n",
            "1              2         1       1   \n",
            "2              3         1       3   \n",
            "3              4         1       1   \n",
            "4              5         0       3   \n",
            "..           ...       ...     ...   \n",
            "886          887         0       2   \n",
            "887          888         1       1   \n",
            "888          889         0       3   \n",
            "889          890         1       1   \n",
            "890          891         0       3   \n",
            "\n",
            "                                                  Name     Sex   Age  SibSp  \\\n",
            "0                              Braund, Mr. Owen Harris    male  22.0      1   \n",
            "1    Cumings, Mrs. John Bradley (Florence Briggs Th...  female  38.0      1   \n",
            "2                               Heikkinen, Miss. Laina  female  26.0      0   \n",
            "3         Futrelle, Mrs. Jacques Heath (Lily May Peel)  female  35.0      1   \n",
            "4                             Allen, Mr. William Henry    male  35.0      0   \n",
            "..                                                 ...     ...   ...    ...   \n",
            "886                              Montvila, Rev. Juozas    male  27.0      0   \n",
            "887                       Graham, Miss. Margaret Edith  female  19.0      0   \n",
            "888           Johnston, Miss. Catherine Helen \"Carrie\"  female   NaN      1   \n",
            "889                              Behr, Mr. Karl Howell    male  26.0      0   \n",
            "890                                Dooley, Mr. Patrick    male  32.0      0   \n",
            "\n",
            "     Parch            Ticket     Fare Cabin Embarked  \n",
            "0        0         A/5 21171   7.2500   NaN        S  \n",
            "1        0          PC 17599  71.2833   C85        C  \n",
            "2        0  STON/O2. 3101282   7.9250   NaN        S  \n",
            "3        0            113803  53.1000  C123        S  \n",
            "4        0            373450   8.0500   NaN        S  \n",
            "..     ...               ...      ...   ...      ...  \n",
            "886      0            211536  13.0000   NaN        S  \n",
            "887      0            112053  30.0000   B42        S  \n",
            "888      2        W./C. 6607  23.4500   NaN        S  \n",
            "889      0            111369  30.0000  C148        C  \n",
            "890      0            370376   7.7500   NaN        Q  \n",
            "\n",
            "[891 rows x 12 columns]>\n",
            "<bound method NDFrame.head of      PassengerId  Survived  Pclass  \\\n",
            "0              1         0       3   \n",
            "1              2         1       1   \n",
            "2              3         1       3   \n",
            "3              4         1       1   \n",
            "4              5         0       3   \n",
            "..           ...       ...     ...   \n",
            "886          887         0       2   \n",
            "887          888         1       1   \n",
            "888          889         0       3   \n",
            "889          890         1       1   \n",
            "890          891         0       3   \n",
            "\n",
            "                                                  Name     Sex   Age  SibSp  \\\n",
            "0                              Braund, Mr. Owen Harris    male  22.0      1   \n",
            "1    Cumings, Mrs. John Bradley (Florence Briggs Th...  female  38.0      1   \n",
            "2                               Heikkinen, Miss. Laina  female  26.0      0   \n",
            "3         Futrelle, Mrs. Jacques Heath (Lily May Peel)  female  35.0      1   \n",
            "4                             Allen, Mr. William Henry    male  35.0      0   \n",
            "..                                                 ...     ...   ...    ...   \n",
            "886                              Montvila, Rev. Juozas    male  27.0      0   \n",
            "887                       Graham, Miss. Margaret Edith  female  19.0      0   \n",
            "888           Johnston, Miss. Catherine Helen \"Carrie\"  female            1   \n",
            "889                              Behr, Mr. Karl Howell    male  26.0      0   \n",
            "890                                Dooley, Mr. Patrick    male  32.0      0   \n",
            "\n",
            "     Parch            Ticket     Fare Cabin Embarked  \n",
            "0        0         A/5 21171   7.2500   NaN        S  \n",
            "1        0          PC 17599  71.2833   C85        C  \n",
            "2        0  STON/O2. 3101282   7.9250   NaN        S  \n",
            "3        0            113803  53.1000  C123        S  \n",
            "4        0            373450   8.0500   NaN        S  \n",
            "..     ...               ...      ...   ...      ...  \n",
            "886      0            211536  13.0000   NaN        S  \n",
            "887      0            112053  30.0000   B42        S  \n",
            "888      2        W./C. 6607  23.4500   NaN        S  \n",
            "889      0            111369  30.0000  C148        C  \n",
            "890      0            370376   7.7500   NaN        Q  \n",
            "\n",
            "[891 rows x 12 columns]>\n"
          ]
        }
      ]
    },
    {
      "cell_type": "markdown",
      "source": [
        "#Задание 7\n",
        "выведите информацию о таблице “копия2”, выберите столбец с\n",
        "пропущенными значениями (они же “null”, они же “NaN”) и\n",
        "замените их на что-нибудь, выведите информацию об этой\n",
        "таблице снова"
      ],
      "metadata": {
        "id": "pWWNvp_kFNJX"
      }
    },
    {
      "cell_type": "code",
      "source": [
        "print(data2.head)\n",
        "\n",
        "data2[f'{find_Null_Column(data2)}'].fillna('empty', inplace= True )\n",
        "\n",
        "print(data2.head)"
      ],
      "metadata": {
        "id": "GOeeyENiFNP6",
        "colab": {
          "base_uri": "https://localhost:8080/"
        },
        "outputId": "4bf6e2dd-3be8-4dba-eb96-ac6b4e1f9f7d"
      },
      "execution_count": 8,
      "outputs": [
        {
          "output_type": "stream",
          "name": "stdout",
          "text": [
            "<bound method NDFrame.head of      PassengerId  Survived  Pclass  \\\n",
            "0              1         0       3   \n",
            "1              2         1       1   \n",
            "2              3         1       3   \n",
            "3              4         1       1   \n",
            "4              5         0       3   \n",
            "..           ...       ...     ...   \n",
            "886          887         0       2   \n",
            "887          888         1       1   \n",
            "888          889         0       3   \n",
            "889          890         1       1   \n",
            "890          891         0       3   \n",
            "\n",
            "                                                  Name     Sex   Age  SibSp  \\\n",
            "0                              Braund, Mr. Owen Harris    male  22.0      1   \n",
            "1    Cumings, Mrs. John Bradley (Florence Briggs Th...  female  38.0      1   \n",
            "2                               Heikkinen, Miss. Laina  female  26.0      0   \n",
            "3         Futrelle, Mrs. Jacques Heath (Lily May Peel)  female  35.0      1   \n",
            "4                             Allen, Mr. William Henry    male  35.0      0   \n",
            "..                                                 ...     ...   ...    ...   \n",
            "886                              Montvila, Rev. Juozas    male  27.0      0   \n",
            "887                       Graham, Miss. Margaret Edith  female  19.0      0   \n",
            "888           Johnston, Miss. Catherine Helen \"Carrie\"  female   NaN      1   \n",
            "889                              Behr, Mr. Karl Howell    male  26.0      0   \n",
            "890                                Dooley, Mr. Patrick    male  32.0      0   \n",
            "\n",
            "     Parch            Ticket     Fare Cabin Embarked  \n",
            "0        0         A/5 21171   7.2500   NaN        S  \n",
            "1        0          PC 17599  71.2833   C85        C  \n",
            "2        0  STON/O2. 3101282   7.9250   NaN        S  \n",
            "3        0            113803  53.1000  C123        S  \n",
            "4        0            373450   8.0500   NaN        S  \n",
            "..     ...               ...      ...   ...      ...  \n",
            "886      0            211536  13.0000   NaN        S  \n",
            "887      0            112053  30.0000   B42        S  \n",
            "888      2        W./C. 6607  23.4500   NaN        S  \n",
            "889      0            111369  30.0000  C148        C  \n",
            "890      0            370376   7.7500   NaN        Q  \n",
            "\n",
            "[891 rows x 12 columns]>\n",
            "<bound method NDFrame.head of      PassengerId  Survived  Pclass  \\\n",
            "0              1         0       3   \n",
            "1              2         1       1   \n",
            "2              3         1       3   \n",
            "3              4         1       1   \n",
            "4              5         0       3   \n",
            "..           ...       ...     ...   \n",
            "886          887         0       2   \n",
            "887          888         1       1   \n",
            "888          889         0       3   \n",
            "889          890         1       1   \n",
            "890          891         0       3   \n",
            "\n",
            "                                                  Name     Sex    Age  SibSp  \\\n",
            "0                              Braund, Mr. Owen Harris    male   22.0      1   \n",
            "1    Cumings, Mrs. John Bradley (Florence Briggs Th...  female   38.0      1   \n",
            "2                               Heikkinen, Miss. Laina  female   26.0      0   \n",
            "3         Futrelle, Mrs. Jacques Heath (Lily May Peel)  female   35.0      1   \n",
            "4                             Allen, Mr. William Henry    male   35.0      0   \n",
            "..                                                 ...     ...    ...    ...   \n",
            "886                              Montvila, Rev. Juozas    male   27.0      0   \n",
            "887                       Graham, Miss. Margaret Edith  female   19.0      0   \n",
            "888           Johnston, Miss. Catherine Helen \"Carrie\"  female  empty      1   \n",
            "889                              Behr, Mr. Karl Howell    male   26.0      0   \n",
            "890                                Dooley, Mr. Patrick    male   32.0      0   \n",
            "\n",
            "     Parch            Ticket     Fare Cabin Embarked  \n",
            "0        0         A/5 21171   7.2500   NaN        S  \n",
            "1        0          PC 17599  71.2833   C85        C  \n",
            "2        0  STON/O2. 3101282   7.9250   NaN        S  \n",
            "3        0            113803  53.1000  C123        S  \n",
            "4        0            373450   8.0500   NaN        S  \n",
            "..     ...               ...      ...   ...      ...  \n",
            "886      0            211536  13.0000   NaN        S  \n",
            "887      0            112053  30.0000   B42        S  \n",
            "888      2        W./C. 6607  23.4500   NaN        S  \n",
            "889      0            111369  30.0000  C148        C  \n",
            "890      0            370376   7.7500   NaN        Q  \n",
            "\n",
            "[891 rows x 12 columns]>\n"
          ]
        }
      ]
    },
    {
      "cell_type": "markdown",
      "source": [
        "#Задание 8\n",
        "В любой таблице выберите столбец с числами и найдите его\n",
        "среднее значение\n"
      ],
      "metadata": {
        "id": "T9Cnn4OAFNXN"
      }
    },
    {
      "cell_type": "code",
      "source": [
        "def find_Column_With_Number(df):\n",
        "    for column in df:\n",
        "        match data1[f'{column}'].dtypes:\n",
        "            case 'int64':\n",
        "                return column\n",
        "            case 'float64':\n",
        "                return column\n",
        "            \n",
        "print(str(find_Column_With_Number(data1)) + \"\\n\" + str(data1[find_Column_With_Number(data1)].mean()))"
      ],
      "metadata": {
        "id": "qNHQsXw2FNee",
        "colab": {
          "base_uri": "https://localhost:8080/",
          "height": 130
        },
        "outputId": "2066ed56-d60a-4f15-ddba-532d7e25fb71"
      },
      "execution_count": 9,
      "outputs": [
        {
          "output_type": "error",
          "ename": "SyntaxError",
          "evalue": "ignored",
          "traceback": [
            "\u001b[0;36m  File \u001b[0;32m\"<ipython-input-9-0dca7fe9150f>\"\u001b[0;36m, line \u001b[0;32m3\u001b[0m\n\u001b[0;31m    match data1[f'{column}'].dtypes:\u001b[0m\n\u001b[0m          ^\u001b[0m\n\u001b[0;31mSyntaxError\u001b[0m\u001b[0;31m:\u001b[0m invalid syntax\n"
          ]
        }
      ]
    },
    {
      "cell_type": "markdown",
      "source": [
        "#Задание 9\n",
        "в любой таблице выберите столбец с категориальными\n",
        "данными (как правило строки) и выведите количество его\n",
        "уникальных значений"
      ],
      "metadata": {
        "id": "odQMalTrFNlu"
      }
    },
    {
      "cell_type": "code",
      "source": [
        "def find_Column_With_Cat(df):\n",
        "    for column in df:\n",
        "        match data1[f'{column}'].dtypes:\n",
        "            case 'String':\n",
        "                return column\n",
        "            case 'object':\n",
        "                return column\n",
        "\n",
        "print(str(find_Column_With_Cat(data2))+ '\\n' +str(data2[find_Column_With_Cat(data2)].nunique()))"
      ],
      "metadata": {
        "id": "Kq2Meu_xFNtO",
        "colab": {
          "base_uri": "https://localhost:8080/",
          "height": 130
        },
        "outputId": "bccab9fd-f4c4-40c4-a7a0-1db9149ed03e"
      },
      "execution_count": 10,
      "outputs": [
        {
          "output_type": "error",
          "ename": "SyntaxError",
          "evalue": "ignored",
          "traceback": [
            "\u001b[0;36m  File \u001b[0;32m\"<ipython-input-10-2729f53e498a>\"\u001b[0;36m, line \u001b[0;32m3\u001b[0m\n\u001b[0;31m    match data1[f'{column}'].dtypes:\u001b[0m\n\u001b[0m          ^\u001b[0m\n\u001b[0;31mSyntaxError\u001b[0m\u001b[0;31m:\u001b[0m invalid syntax\n"
          ]
        }
      ]
    },
    {
      "cell_type": "markdown",
      "source": [
        "#Задание 10\n",
        "в любой таблице измените значение любой колонки для\n",
        "второго и третьего объектов (объект = строка). выведите\n",
        "результаты, что бы убедиться, что изменения сохранилис"
      ],
      "metadata": {
        "id": "XnEai4mDFN1M"
      }
    },
    {
      "cell_type": "code",
      "source": [
        "data1.at[0,f'{data1.columns[1]}'] = '111'\n",
        "data1.at[0,f'{data1.columns[2]}'] = '222'\n",
        "print(data1.head)\n"
      ],
      "metadata": {
        "id": "gLuEh9QKFN8d",
        "colab": {
          "base_uri": "https://localhost:8080/"
        },
        "outputId": "2cf6c4f6-9d42-4ec1-b966-12cfc5fbeee0"
      },
      "execution_count": 11,
      "outputs": [
        {
          "output_type": "stream",
          "name": "stdout",
          "text": [
            "<bound method NDFrame.head of      PassengerId  Survived  Pclass  \\\n",
            "0              1       111     222   \n",
            "1              2         1       1   \n",
            "2              3         1       3   \n",
            "3              4         1       1   \n",
            "4              5         0       3   \n",
            "..           ...       ...     ...   \n",
            "886          887         0       2   \n",
            "887          888         1       1   \n",
            "888          889         0       3   \n",
            "889          890         1       1   \n",
            "890          891         0       3   \n",
            "\n",
            "                                                  Name     Sex   Age  SibSp  \\\n",
            "0                              Braund, Mr. Owen Harris    male  22.0      1   \n",
            "1    Cumings, Mrs. John Bradley (Florence Briggs Th...  female  38.0      1   \n",
            "2                               Heikkinen, Miss. Laina  female  26.0      0   \n",
            "3         Futrelle, Mrs. Jacques Heath (Lily May Peel)  female  35.0      1   \n",
            "4                             Allen, Mr. William Henry    male  35.0      0   \n",
            "..                                                 ...     ...   ...    ...   \n",
            "886                              Montvila, Rev. Juozas    male  27.0      0   \n",
            "887                       Graham, Miss. Margaret Edith  female  19.0      0   \n",
            "888           Johnston, Miss. Catherine Helen \"Carrie\"  female            1   \n",
            "889                              Behr, Mr. Karl Howell    male  26.0      0   \n",
            "890                                Dooley, Mr. Patrick    male  32.0      0   \n",
            "\n",
            "     Parch            Ticket     Fare Cabin Embarked  \n",
            "0        0         A/5 21171   7.2500   NaN        S  \n",
            "1        0          PC 17599  71.2833   C85        C  \n",
            "2        0  STON/O2. 3101282   7.9250   NaN        S  \n",
            "3        0            113803  53.1000  C123        S  \n",
            "4        0            373450   8.0500   NaN        S  \n",
            "..     ...               ...      ...   ...      ...  \n",
            "886      0            211536  13.0000   NaN        S  \n",
            "887      0            112053  30.0000   B42        S  \n",
            "888      2        W./C. 6607  23.4500   NaN        S  \n",
            "889      0            111369  30.0000  C148        C  \n",
            "890      0            370376   7.7500   NaN        Q  \n",
            "\n",
            "[891 rows x 12 columns]>\n"
          ]
        }
      ]
    },
    {
      "cell_type": "markdown",
      "source": [
        "#Задание 11\n",
        "создайте две маленькие таблицы 3х3 и соедините их в одну.\n"
      ],
      "metadata": {
        "id": "SEm-akLeFOGi"
      }
    },
    {
      "cell_type": "code",
      "source": [
        "df1 = pd.DataFrame(\n",
        "    {\n",
        "        \"A\": [\"A0\", \"A1\", \"A2\", ],\n",
        "        \"B\": [\"B0\", \"B1\", \"B2\"],\n",
        "        \"C\": [\"C0\", \"C1\", \"C2\"],\n",
        "    },\n",
        ")\n",
        "\n",
        "\n",
        "df2 = pd.DataFrame(\n",
        "    {\n",
        "        \"A\": [\"A4\", \"A5\", \"A6\"],\n",
        "        \"B\": [\"B4\", \"B5\", \"B6\"],\n",
        "        \"C\": [\"C4\", \"C5\", \"C6\"],\n",
        "    },\n",
        ")\n",
        "\n",
        "frames = [df1, df2]\n",
        "\n",
        "result = pd.concat(frames)\n",
        "print(result.head)"
      ],
      "metadata": {
        "id": "JRfcN9ObFONv"
      },
      "execution_count": null,
      "outputs": []
    },
    {
      "cell_type": "markdown",
      "source": [
        "#Задание 12\n",
        "сохраните получившуюся таблицу в формате csv"
      ],
      "metadata": {
        "id": "jj627zR0FOXG"
      }
    },
    {
      "cell_type": "code",
      "source": [
        "result.to_csv('output.csv')"
      ],
      "metadata": {
        "id": "jcQVx7hwFOdm"
      },
      "execution_count": null,
      "outputs": []
    }
  ]
}