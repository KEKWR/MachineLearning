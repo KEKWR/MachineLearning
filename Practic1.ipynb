{
  "nbformat": 4,
  "nbformat_minor": 0,
  "metadata": {
    "colab": {
      "provenance": [],
      "authorship_tag": "ABX9TyM8pokB12kBx1tOjljZb7Nv",
      "include_colab_link": true
    },
    "kernelspec": {
      "name": "python3",
      "display_name": "Python 3"
    },
    "language_info": {
      "name": "python"
    }
  },
  "cells": [
    {
      "cell_type": "markdown",
      "metadata": {
        "id": "view-in-github",
        "colab_type": "text"
      },
      "source": [
        "<a href=\"https://colab.research.google.com/github/KEKWR/MachineLearning/blob/main/Practic1.ipynb\" target=\"_parent\"><img src=\"https://colab.research.google.com/assets/colab-badge.svg\" alt=\"Open In Colab\"/></a>"
      ]
    },
    {
      "cell_type": "code",
      "source": [
        "import pandas as pd\n",
        "data = pd.read_csv('test.csv')\n",
        "data['empty'] = pd.Series()"
      ],
      "metadata": {
        "id": "O3FqARwOFE50"
      },
      "execution_count": null,
      "outputs": []
    },
    {
      "cell_type": "markdown",
      "source": [
        "#Задние 1\n",
        "выведите размер таблицы\n"
      ],
      "metadata": {
        "id": "xJ6w0teEEErP"
      }
    },
    {
      "cell_type": "code",
      "source": [
        "print(data.shape)"
      ],
      "metadata": {
        "colab": {
          "base_uri": "https://localhost:8080/"
        },
        "id": "f3pNmh5pEy9b",
        "outputId": "a62f7818-1357-471f-932a-9b3ea9f79cc1"
      },
      "execution_count": 2,
      "outputs": [
        {
          "output_type": "stream",
          "name": "stdout",
          "text": [
            "(22633, 11)\n"
          ]
        }
      ]
    },
    {
      "cell_type": "markdown",
      "source": [
        "#Задание 2\n",
        "выведите первые 5 строк"
      ],
      "metadata": {
        "id": "VDcFeoPpE56e"
      }
    },
    {
      "cell_type": "code",
      "source": [
        "print(data.head(5))"
      ],
      "metadata": {
        "id": "2iaAuFzfE_t-"
      },
      "execution_count": null,
      "outputs": []
    },
    {
      "cell_type": "markdown",
      "source": [
        "#Задание 3\n",
        "выведите последние 5 строк"
      ],
      "metadata": {
        "id": "MZfYx8bbFLlk"
      }
    },
    {
      "cell_type": "code",
      "source": [
        "print(data.tail(5))"
      ],
      "metadata": {
        "id": "Nfi2kytvFLwG"
      },
      "execution_count": null,
      "outputs": []
    },
    {
      "cell_type": "markdown",
      "source": [
        "#Задание 4\n",
        "выведите случайные 10 строк"
      ],
      "metadata": {
        "id": "AkDtPrH-FMMu"
      }
    },
    {
      "cell_type": "code",
      "source": [
        "import random \n",
        "print(data.iloc[[random.randint(0, len(data.index)) for i in range(10)]])"
      ],
      "metadata": {
        "id": "SjJ1ykY2FMWG"
      },
      "execution_count": null,
      "outputs": []
    },
    {
      "cell_type": "markdown",
      "source": [
        "#Задание 5\n",
        "создайте 2 копии таблицы (Дале “копия1” и “копия2”)"
      ],
      "metadata": {
        "id": "DO4uFAV3FMrG"
      }
    },
    {
      "cell_type": "code",
      "source": [
        "data1 = data.copy()\n",
        "data2 = data.copy()"
      ],
      "metadata": {
        "id": "e6KvvCybFMzO"
      },
      "execution_count": null,
      "outputs": []
    },
    {
      "cell_type": "markdown",
      "source": [
        "#Задание 6\n",
        " выведите информацию о таблице “копия1”, выберите столбец с\n",
        "пропущенными значениями (они же “null”, они же “NaN”) и\n",
        "удалите их, выведите информацию об этой таблице снова.\n"
      ],
      "metadata": {
        "id": "Oo54p-mOFM7W"
      }
    },
    {
      "cell_type": "code",
      "source": [
        "print(data1.head)\n",
        "\n",
        "def find_Null_Column(df):\n",
        "    for column in df: \n",
        "        if df[column].isnull().sum() == len(data.index) : return column \n",
        "\n",
        "data1[f'{find_Null_Column(data1)}'].fillna('', inplace= True )\n",
        "\n",
        "print(data1.head)"
      ],
      "metadata": {
        "id": "TgR8FP2vFNBk"
      },
      "execution_count": null,
      "outputs": []
    },
    {
      "cell_type": "markdown",
      "source": [
        "#Задание 7\n",
        "выведите информацию о таблице “копия2”, выберите столбец с\n",
        "пропущенными значениями (они же “null”, они же “NaN”) и\n",
        "замените их на что-нибудь, выведите информацию об этой\n",
        "таблице снова"
      ],
      "metadata": {
        "id": "pWWNvp_kFNJX"
      }
    },
    {
      "cell_type": "code",
      "source": [
        "print(data2.head)\n",
        "\n",
        "data2[f'{find_Null_Column(data2)}'].fillna('empty', inplace= True )\n",
        "\n",
        "print(data2.head)"
      ],
      "metadata": {
        "id": "GOeeyENiFNP6"
      },
      "execution_count": null,
      "outputs": []
    },
    {
      "cell_type": "markdown",
      "source": [
        "#Задание 8\n",
        "В любой таблице выберите столбец с числами и найдите его\n",
        "среднее значение\n"
      ],
      "metadata": {
        "id": "T9Cnn4OAFNXN"
      }
    },
    {
      "cell_type": "code",
      "source": [
        "def find_Column_With_Number(df):\n",
        "    for column in df:\n",
        "        match data1[f'{column}'].dtypes:\n",
        "            case 'int64':\n",
        "                return column\n",
        "            case 'float64':\n",
        "                return column\n",
        "            \n",
        "print(str(find_Column_With_Number(data1)) + \"\\n\" + str(data1[find_Column_With_Number(data1)].mean()))"
      ],
      "metadata": {
        "id": "qNHQsXw2FNee"
      },
      "execution_count": null,
      "outputs": []
    },
    {
      "cell_type": "markdown",
      "source": [
        "#Задание 9\n",
        "в любой таблице выберите столбец с категориальными\n",
        "данными (как правило строки) и выведите количество его\n",
        "уникальных значений"
      ],
      "metadata": {
        "id": "odQMalTrFNlu"
      }
    },
    {
      "cell_type": "code",
      "source": [
        "def find_Column_With_Cat(df):\n",
        "    for column in df:\n",
        "        match data1[f'{column}'].dtypes:\n",
        "            case 'String':\n",
        "                return column\n",
        "            case 'object':\n",
        "                return column\n",
        "\n",
        "print(str(find_Column_With_Cat(data2))+ '\\n' +str(data2[find_Column_With_Cat(data2)].nunique()))"
      ],
      "metadata": {
        "id": "Kq2Meu_xFNtO"
      },
      "execution_count": null,
      "outputs": []
    },
    {
      "cell_type": "markdown",
      "source": [
        "#Задание 10\n",
        "в любой таблице измените значение любой колонки для\n",
        "второго и третьего объектов (объект = строка). выведите\n",
        "результаты, что бы убедиться, что изменения сохранилис"
      ],
      "metadata": {
        "id": "XnEai4mDFN1M"
      }
    },
    {
      "cell_type": "code",
      "source": [
        "data1.at[0,f'{data1.columns[1]}'] = '111'\n",
        "data1.at[0,f'{data1.columns[2]}'] = '222'\n",
        "print(data1.head)\n"
      ],
      "metadata": {
        "id": "gLuEh9QKFN8d"
      },
      "execution_count": null,
      "outputs": []
    },
    {
      "cell_type": "markdown",
      "source": [
        "#Задание 11\n",
        "создайте две маленькие таблицы 3х3 и соедините их в одну.\n"
      ],
      "metadata": {
        "id": "SEm-akLeFOGi"
      }
    },
    {
      "cell_type": "code",
      "source": [
        "df1 = pd.DataFrame(\n",
        "    {\n",
        "        \"A\": [\"A0\", \"A1\", \"A2\", ],\n",
        "        \"B\": [\"B0\", \"B1\", \"B2\"],\n",
        "        \"C\": [\"C0\", \"C1\", \"C2\"],\n",
        "    },\n",
        ")\n",
        "\n",
        "\n",
        "df2 = pd.DataFrame(\n",
        "    {\n",
        "        \"A\": [\"A4\", \"A5\", \"A6\"],\n",
        "        \"B\": [\"B4\", \"B5\", \"B6\"],\n",
        "        \"C\": [\"C4\", \"C5\", \"C6\"],\n",
        "    },\n",
        ")\n",
        "\n",
        "frames = [df1, df2]\n",
        "\n",
        "result = pd.concat(frames)\n",
        "print(result.head)"
      ],
      "metadata": {
        "id": "JRfcN9ObFONv"
      },
      "execution_count": null,
      "outputs": []
    },
    {
      "cell_type": "markdown",
      "source": [
        "#Задание 12\n",
        "сохраните получившуюся таблицу в формате csv"
      ],
      "metadata": {
        "id": "jj627zR0FOXG"
      }
    },
    {
      "cell_type": "code",
      "source": [
        "result.to_csv('output.csv')"
      ],
      "metadata": {
        "id": "jcQVx7hwFOdm"
      },
      "execution_count": null,
      "outputs": []
    }
  ]
}